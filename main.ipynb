{
 "cells": [
  {
   "cell_type": "markdown",
   "id": "52ddac0f-b36e-49a0-85e6-d03a646c5fcb",
   "metadata": {},
   "source": [
    "Abbreviations of morphological classes used in folder structure and annotation file\n",
    "----------------------------------------------------------------------------------------\n",
    "**BAS** Basophil\n",
    "\n",
    "**EBO** Erythroblast (and Monoblast)\n",
    "\n",
    "**EOS** Eosinophil\n",
    "\n",
    "**LYT** Lymphocyte (typical and atypical)\n",
    "\n",
    "**MON** Monocyte\n",
    "\n",
    "**MYO** Myeloblast (Metamyelocyte and Myelocyte)\n",
    "\n",
    "**NGB** Neutrophil (band)\n",
    "\n",
    "**NGS** Neutrophil (segmented)\n",
    "\n",
    "**PMO** Promyelocyte (bilobled and not)"
   ]
  },
  {
   "cell_type": "markdown",
   "id": "bb5e93b2",
   "metadata": {},
   "source": [
    "![Hematopoiesis_(human)_diagram_ru.svg.png](attachment:Hematopoiesis_(human)_diagram_ru.svg.png)"
   ]
  },
  {
   "cell_type": "markdown",
   "id": "e4a186c7",
   "metadata": {},
   "source": [
    "**Подготовка набора данных**"
   ]
  },
  {
   "cell_type": "code",
   "execution_count": 1,
   "id": "4040ec9f",
   "metadata": {},
   "outputs": [],
   "source": [
    "import os\n",
    "import shutil\n",
    "from dataset_preparing import create_labels, tiff_to_png "
   ]
  },
  {
   "cell_type": "code",
   "execution_count": 3,
   "id": "62395261",
   "metadata": {},
   "outputs": [],
   "source": [
    "labels = ['BAS', 'EBO', 'MON', 'LYT', 'EOS', 'MYO', 'NGB', 'NGS', 'PMO']\n",
    "cur_path = os.getcwd()"
   ]
  },
  {
   "cell_type": "code",
   "execution_count": null,
   "id": "aedf4e26",
   "metadata": {},
   "outputs": [],
   "source": [
    "# Конвертируем .tiff в .png\n",
    "tiff_to_png(path=f'{cur_path}\\images_tiff', out=f'{cur_path}\\images_png\\\\')"
   ]
  },
  {
   "cell_type": "code",
   "execution_count": 4,
   "id": "265ef3dd",
   "metadata": {},
   "outputs": [],
   "source": [
    "# Разделяем test и train выборки по соответствующим директориям\n",
    "# 80% на train и 20% на test\n",
    "\n",
    "for folder, _, files in os.walk(f'{cur_path}\\images_png'):\n",
    "    file_counter = 0\n",
    "    for file in files:\n",
    "        # Делим набор данных\n",
    "        if file_counter % 5 == 0:\n",
    "            shutil.copy(src=os.path.join(folder, file),\n",
    "                        dst=f'dataset\\\\test\\{file}')\n",
    "        else:\n",
    "            shutil.copy(src=os.path.join(folder, file),\n",
    "                        dst=f'dataset\\\\train\\{file}')\n",
    "        file_counter+=1"
   ]
  },
  {
   "cell_type": "code",
   "execution_count": 4,
   "id": "125b117d",
   "metadata": {},
   "outputs": [],
   "source": [
    "# Создаём метки классов в формате csv для каждого изображения в test и train \n",
    "\n",
    "train_path = f'{cur_path}\\\\dataset\\\\train'\n",
    "test_path = f'{cur_path}\\\\dataset\\\\test'\n",
    "\n",
    "create_labels(path=train_path, csv_path=train_path + '\\\\train.csv')\n",
    "create_labels(path=test_path, csv_path=test_path+ '\\\\test.csv')"
   ]
  },
  {
   "cell_type": "code",
   "execution_count": 1,
   "id": "8133f053-7c35-4dd5-8949-18192b87cebf",
   "metadata": {},
   "outputs": [],
   "source": [
    "# Load in relevant libraries, and alias where appropriate\n",
    "import torch\n",
    "import torch.nn as nn\n",
    "import torchvision\n",
    "import torchvision.transforms as transforms"
   ]
  },
  {
   "cell_type": "code",
   "execution_count": 4,
   "id": "d508db1d",
   "metadata": {},
   "outputs": [],
   "source": [
    "from dataloader import LeukocytesDataset, Rescale, RandomCrop, ToTensor"
   ]
  },
  {
   "cell_type": "code",
   "execution_count": 2,
   "metadata": {},
   "outputs": [],
   "source": [
    "# Define relevant variables for the ML task\n",
    "batch_size = 4\n",
    "num_classes = 9\n",
    "learning_rate = 0.001\n",
    "num_epochs = 20"
   ]
  },
  {
   "cell_type": "code",
   "execution_count": 3,
   "id": "83f4e76d",
   "metadata": {},
   "outputs": [],
   "source": [
    "device = torch.device('cuda' if torch.cuda.is_available() else 'cpu')"
   ]
  },
  {
   "cell_type": "code",
   "execution_count": null,
   "id": "c25ff929",
   "metadata": {},
   "outputs": [],
   "source": [
    "# Use transforms.compose method to reformat images for modeling,\n",
    "# and save to variable all_transforms for later use\n",
    "all_transforms = transforms.Compose([dl.Resize((32,32)),\n",
    "                                     dl.ToTensor()\n",
    "                                     ])\n",
    "\n",
    "train_dataset = dl.LeukocytesDataset(root_dir='dataset/train',\n",
    "                                    csv_file='dataset/labels.csv',\n",
    "                                    )"
   ]
  }
 ],
 "metadata": {
  "kernelspec": {
   "display_name": "Python 3",
   "language": "python",
   "name": "python3"
  },
  "language_info": {
   "codemirror_mode": {
    "name": "ipython",
    "version": 3
   },
   "file_extension": ".py",
   "mimetype": "text/x-python",
   "name": "python",
   "nbconvert_exporter": "python",
   "pygments_lexer": "ipython3",
   "version": "3.11.4"
  }
 },
 "nbformat": 4,
 "nbformat_minor": 5
}
