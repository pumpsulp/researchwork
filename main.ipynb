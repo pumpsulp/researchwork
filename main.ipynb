{
 "cells": [
  {
   "cell_type": "markdown",
   "id": "52ddac0f-b36e-49a0-85e6-d03a646c5fcb",
   "metadata": {},
   "source": [
    "Abbreviations of morphological classes used in folder structure and annotation file\n",
    "----------------------------------------------------------------------------------------\n",
    "**BAS** Basophil\n",
    "\n",
    "**EBO** Erythroblast (and Monoblast)\n",
    "\n",
    "**EOS** Eosinophil\n",
    "\n",
    "**LYT** Lymphocyte (typical and atypical)\n",
    "\n",
    "**MON** Monocyte\n",
    "\n",
    "**MYO** Myeloblast (Metamyelocyte and Myelocyte)\n",
    "\n",
    "**NGB** Neutrophil (band)\n",
    "\n",
    "**NGS** Neutrophil (segmented)\n",
    "\n",
    "**PMO** Promyelocyte (bilobled and not)"
   ]
  },
  {
   "cell_type": "code",
   "execution_count": 1,
   "id": "8133f053-7c35-4dd5-8949-18192b87cebf",
   "metadata": {},
   "outputs": [
    {
     "name": "stdout",
     "output_type": "stream",
     "text": [
      "hello world\n"
     ]
    }
   ],
   "source": [
    "print('hello world')"
   ]
  },
  {
   "cell_type": "code",
   "execution_count": null,
   "metadata": {},
   "outputs": [],
   "source": []
  }
 ],
 "metadata": {
  "kernelspec": {
   "display_name": "Python 3",
   "language": "python",
   "name": "python3"
  },
  "language_info": {
   "codemirror_mode": {
    "name": "ipython",
    "version": 3
   },
   "file_extension": ".py",
   "mimetype": "text/x-python",
   "name": "python",
   "nbconvert_exporter": "python",
   "pygments_lexer": "ipython3",
   "version": "3.11.4"
  }
 },
 "nbformat": 4,
 "nbformat_minor": 5
}
